{
 "cells": [
  {
   "cell_type": "code",
   "execution_count": 1,
   "metadata": {},
   "outputs": [
    {
     "data": {
      "image/png": "[encoded data removed]",
      "text/plain": [
       "<Figure size 1008x504 with 1 Axes>"
      ]
     },
     "metadata": {
      "needs_background": "light"
     },
     "output_type": "display_data"
    }
   ],
   "source": [
    "import numpy as np\n",
    "import matplotlib.pyplot as plt\n",
    "from matplotlib import rcParams\n",
    "rcParams['figure.figsize'] = (14, 7)\n",
    "rcParams['axes.spines.top'] = False\n",
    "rcParams['axes.spines.right'] = False\n",
    "\n",
    "def sigmoid(x):\n",
    "    return 1 / (1 + np.exp(-x))\n",
    "xs = np.arange(-10, 10, 0.1)\n",
    "ys = [sigmoid(x) for x in xs]\n",
    "\n",
    "plt.plot(xs, ys, c='#087E8B', lw=3)\n",
    "plt.title('Sigmoid function', size=20)\n",
    "plt.xlabel('X', size=14)\n",
    "plt.ylabel('Y (probability)', size=14)\n",
    "plt.show()"
   ]
  },
  {
   "cell_type": "code",
   "execution_count": 2,
   "metadata": {},
   "outputs": [],
   "source": [
    "def binary_cross_entropy(y, y_hat):\n",
    "    def safe_log(x): return 0 if x == 0 else np.log(x)\n",
    "    total = 0\n",
    "    for curr_y, curr_y_hat in zip(y, y_hat):\n",
    "        total += (curr_y * safe_log(curr_y_hat) + (1 - curr_y) * safe_log(1 - curr_y_hat))\n",
    "    return - total / len(y)"
   ]
  },
  {
   "cell_type": "code",
   "execution_count": 3,
   "metadata": {},
   "outputs": [
    {
     "name": "stderr",
     "output_type": "stream",
     "text": [
      "<ipython-input-3-f6e7c0610b57>:1: RuntimeWarning: divide by zero encountered in log\n",
      "  np.log(0)\n"
     ]
    },
    {
     "data": {
      "text/plain": [
       "-inf"
      ]
     },
     "execution_count": 3,
     "metadata": {},
     "output_type": "execute_result"
    }
   ],
   "source": [
    "np.log(0)"
   ]
  },
  {
   "cell_type": "code",
   "execution_count": 4,
   "metadata": {},
   "outputs": [
    {
     "data": {
      "text/plain": [
       "0.10536051565782628"
      ]
     },
     "execution_count": 4,
     "metadata": {},
     "output_type": "execute_result"
    }
   ],
   "source": [
    "binary_cross_entropy(y=[1, 0], y_hat=[0.9, 0.1])"
   ]
  },
  {
   "cell_type": "code",
   "execution_count": 5,
   "metadata": {},
   "outputs": [
    {
     "data": {
      "text/plain": [
       "2.302585092994046"
      ]
     },
     "execution_count": 5,
     "metadata": {},
     "output_type": "execute_result"
    }
   ],
   "source": [
    "binary_cross_entropy(y=[1, 0], y_hat=[0.1, 0.9])"
   ]
  },
  {
   "cell_type": "code",
   "execution_count": 6,
   "metadata": {},
   "outputs": [],
   "source": [
    "class LogisticRegression:\n",
    "    '''\n",
    "    A class which implements logistic regression model with gradient descent.\n",
    "    '''\n",
    "    def __init__(self, learning_rate=0.1, n_iterations=1000):\n",
    "        self.learning_rate = learning_rate\n",
    "        self.n_iterations = n_iterations\n",
    "        self.weights, self.bias = None, None\n",
    "        \n",
    "    @staticmethod\n",
    "    def _sigmoid(x):\n",
    "        '''\n",
    "        Private method, used to pass results of the line equation through the sigmoid function.\n",
    "        :param x: float, prediction made by the line equation\n",
    "        :return: float\n",
    "        '''\n",
    "        return 1 / (1 + np.exp(-x))\n",
    "    \n",
    "    @staticmethod\n",
    "    def _binary_cross_entropy(y, y_hat):\n",
    "        '''\n",
    "        Private method, used to calculate binary cross entropy value between actual classes\n",
    "        and predicted probabilities.\n",
    "        :param y: array, true class labels\n",
    "        :param y_hat: array, predicted probabilities\n",
    "        :return: float\n",
    "        '''\n",
    "        def safe_log(x):\n",
    "            return 0 if x == 0 else np.log(x)\n",
    "        total = 0\n",
    "        for curr_y, curr_y_hat in zip(y, y_hat):\n",
    "            total += (curr_y * safe_log(curr_y_hat) + (1 - curr_y) * safe_log(1 - curr_y_hat))\n",
    "        return - total / len(y)\n",
    "    \n",
    "    def fit(self, X, y):\n",
    "        '''\n",
    "        Used to calculate the coefficient of the logistic regression model.\n",
    "        :param X: array, features\n",
    "        :param y: array, true values\n",
    "        :return: None\n",
    "        '''\n",
    "        # 1. Initialize coefficients\n",
    "        self.weights = np.zeros(X.shape[1])\n",
    "        self.bias = 0\n",
    "        # 2. Perform gradient descent\n",
    "        for i in range(self.n_iterations):\n",
    "            linear_pred = np.dot(X, self.weights) + self.bias\n",
    "            probability = self._sigmoid(linear_pred)# Calculate derivatives\n",
    "            partial_w = (1 / X.shape[0]) * (2 * np.dot(X.T, (probability - y)))\n",
    "            partial_d = (1 / X.shape[0]) * (2 * np.sum(probability - y))\n",
    "            \n",
    "            # Update the coefficients\n",
    "            self.weights -= self.learning_rate * partial_w\n",
    "            self.bias -= self.learning_rate * partial_d\n",
    "    def predict_proba(self, X):\n",
    "        '''\n",
    "        Calculates prediction probabilities for a given threshold using the line equation\n",
    "        passed through the sigmoid function.\n",
    "        :param X: array, features\n",
    "        :return: array, prediction probabilities\n",
    "        '''\n",
    "        linear_pred = np.dot(X, self.weights) + self.bias\n",
    "        return self._sigmoid(linear_pred)\n",
    "    \n",
    "    def predict(self, X, threshold=0.5):\n",
    "        '''\n",
    "        Makes predictions using the line equation passed through the sigmoid function.\n",
    "        :param X: array, features\n",
    "        :param threshold: float, classification threshold\n",
    "        :return: array, predictions\n",
    "        '''\n",
    "        probabilities = self.predict_proba(X)\n",
    "        return [1 if i > threshold else 0 for i in probabilities]"
   ]
  },
  {
   "cell_type": "code",
   "execution_count": 7,
   "metadata": {},
   "outputs": [],
   "source": [
    "from sklearn.datasets import load_breast_cancer\n",
    "data = load_breast_cancer()\n",
    "X = data.data\n",
    "y = data.target"
   ]
  },
  {
   "cell_type": "code",
   "execution_count": 8,
   "metadata": {},
   "outputs": [],
   "source": [
    "from sklearn.model_selection import train_test_split\n",
    "X_train, X_test, y_train, y_test = train_test_split(X, y, test_size=0.2, random_state=42)"
   ]
  },
  {
   "cell_type": "code",
   "execution_count": 9,
   "metadata": {},
   "outputs": [
    {
     "name": "stderr",
     "output_type": "stream",
     "text": [
      "<ipython-input-6-9c8b44687949>:17: RuntimeWarning: overflow encountered in exp\n",
      "  return 1 / (1 + np.exp(-x))\n"
     ]
    }
   ],
   "source": [
    "model = LogisticRegression()\n",
    "model.fit(X_train, y_train)\n",
    "preds = model.predict(X_test)"
   ]
  },
  {
   "cell_type": "code",
   "execution_count": 10,
   "metadata": {},
   "outputs": [
    {
     "data": {
      "text/plain": [
       "array([ 6.48444043e+01,  8.46533269e+01,  3.76707193e+02,  1.54121878e+02,\n",
       "        5.83489415e-01, -2.98049258e-01, -1.18537084e+00, -5.07444821e-01,\n",
       "        1.09842728e+00,  4.70753225e-01,  2.55854997e-01,  6.19866477e+00,\n",
       "       -1.53717926e+00, -1.60928542e+02,  3.11552341e-02, -6.75006077e-02,\n",
       "       -1.32281063e-01, -1.63989718e-02,  9.92092546e-02,  1.02621701e-02,\n",
       "        6.80895857e+01,  1.05117088e+02,  3.80123556e+02, -2.22714300e+02,\n",
       "        7.12393615e-01, -1.31041749e+00, -2.55557417e+00, -5.97852719e-01,\n",
       "        1.40572790e+00,  4.29558751e-01])"
      ]
     },
     "execution_count": 10,
     "metadata": {},
     "output_type": "execute_result"
    }
   ],
   "source": [
    "model.weights"
   ]
  },
  {
   "cell_type": "code",
   "execution_count": 11,
   "metadata": {},
   "outputs": [
    {
     "data": {
      "text/plain": [
       "8.486144336979642"
      ]
     },
     "execution_count": 11,
     "metadata": {},
     "output_type": "execute_result"
    }
   ],
   "source": [
    "model.bias"
   ]
  },
  {
   "cell_type": "code",
   "execution_count": 12,
   "metadata": {},
   "outputs": [],
   "source": [
    "from sklearn.metrics import accuracy_score, confusion_matrix"
   ]
  },
  {
   "cell_type": "code",
   "execution_count": 13,
   "metadata": {},
   "outputs": [
    {
     "data": {
      "text/plain": [
       "0.9473684210526315"
      ]
     },
     "execution_count": 13,
     "metadata": {},
     "output_type": "execute_result"
    }
   ],
   "source": [
    "accuracy_score(y_test, preds)"
   ]
  },
  {
   "cell_type": "code",
   "execution_count": 14,
   "metadata": {},
   "outputs": [
    {
     "name": "stdout",
     "output_type": "stream",
     "text": [
      "[[43  0]\n",
      " [ 6 65]]\n"
     ]
    }
   ],
   "source": [
    "print(confusion_matrix(y_test, preds))"
   ]
  },
  {
   "cell_type": "code",
   "execution_count": 15,
   "metadata": {},
   "outputs": [
    {
     "name": "stderr",
     "output_type": "stream",
     "text": [
      "<ipython-input-6-9c8b44687949>:17: RuntimeWarning: overflow encountered in exp\n",
      "  return 1 / (1 + np.exp(-x))\n"
     ]
    }
   ],
   "source": [
    "evals = []\n",
    "for thresh in np.arange(0, 1.01, 0.01):\n",
    "    preds = model.predict(X_test, threshold=thresh)\n",
    "    acc = accuracy_score(y_test, preds)\n",
    "    evals.append({'Threshold': thresh, 'Accuracy': acc})"
   ]
  },
  {
   "cell_type": "code",
   "execution_count": 16,
   "metadata": {},
   "outputs": [
    {
     "data": {
      "image/png": "[encoded data removed]",
      "text/plain": [
       "<Figure size 1008x504 with 1 Axes>"
      ]
     },
     "metadata": {
      "needs_background": "light"
     },
     "output_type": "display_data"
    }
   ],
   "source": [
    "import pandas as pd\n",
    "evals_df = pd.DataFrame(evals)\n",
    "\n",
    "best_thresh = evals_df.sort_values(by='Accuracy', ascending=False).iloc[0]\n",
    "\n",
    "plt.plot(evals_df['Threshold'], evals_df['Accuracy'], lw=3, c='#087E8B')\n",
    "plt.scatter(best_thresh['Threshold'], best_thresh['Accuracy'], label=f\"Best threshold ={best_thresh['Threshold']}, Accuracy = {(best_thresh['Accuracy'] * 100):.2f}%\", s=250, c='#087E8B')\n",
    "plt.title('Threshold Optimization', size=20)\n",
    "plt.xlabel('Threshold', size=14)\n",
    "plt.ylabel('Accuracy', size=14)\n",
    "plt.legend()\n",
    "plt.show()"
   ]
  },
  {
   "cell_type": "code",
   "execution_count": 17,
   "metadata": {},
   "outputs": [
    {
     "name": "stderr",
     "output_type": "stream",
     "text": [
      "<ipython-input-6-9c8b44687949>:17: RuntimeWarning: overflow encountered in exp\n",
      "  return 1 / (1 + np.exp(-x))\n"
     ]
    }
   ],
   "source": [
    "model = LogisticRegression()\n",
    "model.fit(X_train, y_train)\n",
    "preds = model.predict(X_test, threshold=0)"
   ]
  },
  {
   "cell_type": "code",
   "execution_count": 18,
   "metadata": {},
   "outputs": [
    {
     "data": {
      "text/plain": [
       "0.956140350877193"
      ]
     },
     "execution_count": 18,
     "metadata": {},
     "output_type": "execute_result"
    }
   ],
   "source": [
    "accuracy_score(y_test, preds)"
   ]
  },
  {
   "cell_type": "code",
   "execution_count": 19,
   "metadata": {},
   "outputs": [
    {
     "name": "stdout",
     "output_type": "stream",
     "text": [
      "[[42  1]\n",
      " [ 4 67]]\n"
     ]
    }
   ],
   "source": [
    "print(confusion_matrix(y_test, preds))"
   ]
  },
  {
   "cell_type": "code",
   "execution_count": 20,
   "metadata": {},
   "outputs": [
    {
     "name": "stderr",
     "output_type": "stream",
     "text": [
      "C:\\Users\\LENOVO\\anaconda3\\lib\\site-packages\\sklearn\\linear_model\\_logistic.py:762: ConvergenceWarning: lbfgs failed to converge (status=1):\n",
      "STOP: TOTAL NO. of ITERATIONS REACHED LIMIT.\n",
      "\n",
      "Increase the number of iterations (max_iter) or scale the data as shown in:\n",
      "    https://scikit-learn.org/stable/modules/preprocessing.html\n",
      "Please also refer to the documentation for alternative solver options:\n",
      "    https://scikit-learn.org/stable/modules/linear_model.html#logistic-regression\n",
      "  n_iter_i = _check_optimize_result(\n"
     ]
    }
   ],
   "source": [
    "from sklearn.linear_model import LogisticRegression\n",
    "lr_model = LogisticRegression()\n",
    "lr_model.fit(X_train, y_train)\n",
    "lr_preds = lr_model.predict(X_test)"
   ]
  },
  {
   "cell_type": "code",
   "execution_count": 21,
   "metadata": {},
   "outputs": [
    {
     "data": {
      "text/plain": [
       "0.956140350877193"
      ]
     },
     "execution_count": 21,
     "metadata": {},
     "output_type": "execute_result"
    }
   ],
   "source": [
    "accuracy_score(y_test, lr_preds)"
   ]
  },
  {
   "cell_type": "code",
   "execution_count": 22,
   "metadata": {},
   "outputs": [
    {
     "name": "stdout",
     "output_type": "stream",
     "text": [
      "[[39  4]\n",
      " [ 1 70]]\n"
     ]
    }
   ],
   "source": [
    "print(confusion_matrix(y_test, lr_preds))"
   ]
  },
  {
   "cell_type": "code",
   "execution_count": null,
   "metadata": {},
   "outputs": [],
   "source": []
  }
 ],
 "metadata": {
  "kernelspec": {
   "display_name": "Python 3",
   "language": "python",
   "name": "python3"
  },
  "language_info": {
   "codemirror_mode": {
    "name": "ipython",
    "version": 3
   },
   "file_extension": ".py",
   "mimetype": "text/x-python",
   "name": "python",
   "nbconvert_exporter": "python",
   "pygments_lexer": "ipython3",
   "version": "3.8.5"
  }
 },
 "nbformat": 4,
 "nbformat_minor": 4
}
